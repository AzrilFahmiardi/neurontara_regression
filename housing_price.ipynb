{
 "cells": [
  {
   "cell_type": "code",
   "execution_count": null,
   "id": "5e8b6a49",
   "metadata": {},
   "outputs": [],
   "source": [
    "print('tes')"
   ]
  }
 ],
 "metadata": {
  "language_info": {
   "name": "python"
  }
 },
 "nbformat": 4,
 "nbformat_minor": 5
}
